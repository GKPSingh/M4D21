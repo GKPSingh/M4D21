{
 "cells": [
  {
   "cell_type": "code",
   "execution_count": 1,
   "metadata": {},
   "outputs": [],
   "source": [
    "import pandas as pd\n",
    "import numpy as np\n",
    "import matplotlib.pyplot as plt\n",
    "%matplotlib inline"
   ]
  },
  {
   "cell_type": "code",
   "execution_count": 2,
   "metadata": {},
   "outputs": [],
   "source": [
    "zill = pd.read_csv('Zillow Housing Data.csv')"
   ]
  },
  {
   "cell_type": "code",
   "execution_count": 3,
   "metadata": {},
   "outputs": [
    {
     "data": {
      "text/html": [
       "<div>\n",
       "<style scoped>\n",
       "    .dataframe tbody tr th:only-of-type {\n",
       "        vertical-align: middle;\n",
       "    }\n",
       "\n",
       "    .dataframe tbody tr th {\n",
       "        vertical-align: top;\n",
       "    }\n",
       "\n",
       "    .dataframe thead th {\n",
       "        text-align: right;\n",
       "    }\n",
       "</style>\n",
       "<table border=\"1\" class=\"dataframe\">\n",
       "  <thead>\n",
       "    <tr style=\"text-align: right;\">\n",
       "      <th></th>\n",
       "      <th>id</th>\n",
       "      <th>price</th>\n",
       "      <th>sqft_living</th>\n",
       "      <th>bedrooms</th>\n",
       "      <th>bathrooms</th>\n",
       "      <th>year_built</th>\n",
       "      <th>zipcode</th>\n",
       "      <th>address</th>\n",
       "      <th>Latitude</th>\n",
       "      <th>Longitude</th>\n",
       "    </tr>\n",
       "  </thead>\n",
       "  <tbody>\n",
       "    <tr>\n",
       "      <th>0</th>\n",
       "      <td>1</td>\n",
       "      <td>1249000.0</td>\n",
       "      <td>6209.0</td>\n",
       "      <td>5</td>\n",
       "      <td>5.0</td>\n",
       "      <td>1986</td>\n",
       "      <td>80111</td>\n",
       "      <td>Centennial, CO 80111</td>\n",
       "      <td>39.616672</td>\n",
       "      <td>-104.874651</td>\n",
       "    </tr>\n",
       "    <tr>\n",
       "      <th>1</th>\n",
       "      <td>2</td>\n",
       "      <td>220000.0</td>\n",
       "      <td>1422.0</td>\n",
       "      <td>5</td>\n",
       "      <td>4.0</td>\n",
       "      <td>1986</td>\n",
       "      <td>80111</td>\n",
       "      <td>Centennial, CO 80111</td>\n",
       "      <td>39.616672</td>\n",
       "      <td>-104.874651</td>\n",
       "    </tr>\n",
       "    <tr>\n",
       "      <th>2</th>\n",
       "      <td>3</td>\n",
       "      <td>1250000.0</td>\n",
       "      <td>5614.0</td>\n",
       "      <td>2</td>\n",
       "      <td>3.0</td>\n",
       "      <td>1981</td>\n",
       "      <td>80111</td>\n",
       "      <td>Greenwood Village, CO 80111</td>\n",
       "      <td>39.616672</td>\n",
       "      <td>-104.874651</td>\n",
       "    </tr>\n",
       "    <tr>\n",
       "      <th>3</th>\n",
       "      <td>4</td>\n",
       "      <td>599900.0</td>\n",
       "      <td>2785.0</td>\n",
       "      <td>4</td>\n",
       "      <td>3.0</td>\n",
       "      <td>1982</td>\n",
       "      <td>80111</td>\n",
       "      <td>Englewood, CO 80111</td>\n",
       "      <td>39.616672</td>\n",
       "      <td>-104.874651</td>\n",
       "    </tr>\n",
       "    <tr>\n",
       "      <th>4</th>\n",
       "      <td>5</td>\n",
       "      <td>986950.0</td>\n",
       "      <td>3449.0</td>\n",
       "      <td>6</td>\n",
       "      <td>4.0</td>\n",
       "      <td>2019</td>\n",
       "      <td>80111</td>\n",
       "      <td>Centennial, CO 80111</td>\n",
       "      <td>39.616672</td>\n",
       "      <td>-104.874651</td>\n",
       "    </tr>\n",
       "  </tbody>\n",
       "</table>\n",
       "</div>"
      ],
      "text/plain": [
       "   id      price  sqft_living  bedrooms  bathrooms  year_built  zipcode  \\\n",
       "0   1  1249000.0       6209.0         5        5.0        1986    80111   \n",
       "1   2   220000.0       1422.0         5        4.0        1986    80111   \n",
       "2   3  1250000.0       5614.0         2        3.0        1981    80111   \n",
       "3   4   599900.0       2785.0         4        3.0        1982    80111   \n",
       "4   5   986950.0       3449.0         6        4.0        2019    80111   \n",
       "\n",
       "                       address   Latitude   Longitude  \n",
       "0         Centennial, CO 80111  39.616672 -104.874651  \n",
       "1         Centennial, CO 80111  39.616672 -104.874651  \n",
       "2  Greenwood Village, CO 80111  39.616672 -104.874651  \n",
       "3          Englewood, CO 80111  39.616672 -104.874651  \n",
       "4         Centennial, CO 80111  39.616672 -104.874651  "
      ]
     },
     "execution_count": 3,
     "metadata": {},
     "output_type": "execute_result"
    }
   ],
   "source": [
    "zill.head()"
   ]
  },
  {
   "cell_type": "code",
   "execution_count": 4,
   "metadata": {},
   "outputs": [
    {
     "data": {
      "text/plain": [
       "66"
      ]
     },
     "execution_count": 4,
     "metadata": {},
     "output_type": "execute_result"
    }
   ],
   "source": [
    "len(zill)"
   ]
  },
  {
   "cell_type": "code",
   "execution_count": 5,
   "metadata": {},
   "outputs": [
    {
     "data": {
      "text/plain": [
       "(66, 10)"
      ]
     },
     "execution_count": 5,
     "metadata": {},
     "output_type": "execute_result"
    }
   ],
   "source": [
    "zill.shape"
   ]
  },
  {
   "cell_type": "code",
   "execution_count": 6,
   "metadata": {},
   "outputs": [
    {
     "name": "stdout",
     "output_type": "stream",
     "text": [
      "<class 'pandas.core.frame.DataFrame'>\n",
      "RangeIndex: 66 entries, 0 to 65\n",
      "Data columns (total 10 columns):\n",
      " #   Column       Non-Null Count  Dtype  \n",
      "---  ------       --------------  -----  \n",
      " 0   id           66 non-null     int64  \n",
      " 1   price        66 non-null     float64\n",
      " 2   sqft_living  66 non-null     float64\n",
      " 3   bedrooms     66 non-null     int64  \n",
      " 4   bathrooms    66 non-null     float64\n",
      " 5   year_built   66 non-null     int64  \n",
      " 6   zipcode      66 non-null     int64  \n",
      " 7   address      66 non-null     object \n",
      " 8   Latitude     66 non-null     float64\n",
      " 9   Longitude    66 non-null     float64\n",
      "dtypes: float64(5), int64(4), object(1)\n",
      "memory usage: 5.3+ KB\n"
     ]
    }
   ],
   "source": [
    "zill.info()"
   ]
  },
  {
   "cell_type": "code",
   "execution_count": 7,
   "metadata": {},
   "outputs": [
    {
     "data": {
      "text/html": [
       "<div>\n",
       "<style scoped>\n",
       "    .dataframe tbody tr th:only-of-type {\n",
       "        vertical-align: middle;\n",
       "    }\n",
       "\n",
       "    .dataframe tbody tr th {\n",
       "        vertical-align: top;\n",
       "    }\n",
       "\n",
       "    .dataframe thead th {\n",
       "        text-align: right;\n",
       "    }\n",
       "</style>\n",
       "<table border=\"1\" class=\"dataframe\">\n",
       "  <thead>\n",
       "    <tr style=\"text-align: right;\">\n",
       "      <th></th>\n",
       "      <th>id</th>\n",
       "      <th>price</th>\n",
       "      <th>sqft_living</th>\n",
       "      <th>bedrooms</th>\n",
       "      <th>bathrooms</th>\n",
       "      <th>year_built</th>\n",
       "      <th>zipcode</th>\n",
       "      <th>Latitude</th>\n",
       "      <th>Longitude</th>\n",
       "    </tr>\n",
       "  </thead>\n",
       "  <tbody>\n",
       "    <tr>\n",
       "      <th>count</th>\n",
       "      <td>66.000000</td>\n",
       "      <td>6.600000e+01</td>\n",
       "      <td>66.000000</td>\n",
       "      <td>66.000000</td>\n",
       "      <td>66.000000</td>\n",
       "      <td>66.000000</td>\n",
       "      <td>66.0</td>\n",
       "      <td>6.600000e+01</td>\n",
       "      <td>6.600000e+01</td>\n",
       "    </tr>\n",
       "    <tr>\n",
       "      <th>mean</th>\n",
       "      <td>33.500000</td>\n",
       "      <td>8.049797e+05</td>\n",
       "      <td>3623.451515</td>\n",
       "      <td>3.636364</td>\n",
       "      <td>3.248485</td>\n",
       "      <td>1994.090909</td>\n",
       "      <td>80111.0</td>\n",
       "      <td>3.961667e+01</td>\n",
       "      <td>-1.048747e+02</td>\n",
       "    </tr>\n",
       "    <tr>\n",
       "      <th>std</th>\n",
       "      <td>19.196354</td>\n",
       "      <td>3.915756e+05</td>\n",
       "      <td>4239.300843</td>\n",
       "      <td>1.320097</td>\n",
       "      <td>1.114829</td>\n",
       "      <td>18.709707</td>\n",
       "      <td>0.0</td>\n",
       "      <td>2.863950e-14</td>\n",
       "      <td>1.288778e-13</td>\n",
       "    </tr>\n",
       "    <tr>\n",
       "      <th>min</th>\n",
       "      <td>1.000000</td>\n",
       "      <td>1.825000e+05</td>\n",
       "      <td>658.000000</td>\n",
       "      <td>1.000000</td>\n",
       "      <td>1.000000</td>\n",
       "      <td>1960.000000</td>\n",
       "      <td>80111.0</td>\n",
       "      <td>3.961667e+01</td>\n",
       "      <td>-1.048747e+02</td>\n",
       "    </tr>\n",
       "    <tr>\n",
       "      <th>25%</th>\n",
       "      <td>17.250000</td>\n",
       "      <td>5.842618e+05</td>\n",
       "      <td>2403.900000</td>\n",
       "      <td>2.250000</td>\n",
       "      <td>3.000000</td>\n",
       "      <td>1979.250000</td>\n",
       "      <td>80111.0</td>\n",
       "      <td>3.961667e+01</td>\n",
       "      <td>-1.048747e+02</td>\n",
       "    </tr>\n",
       "    <tr>\n",
       "      <th>50%</th>\n",
       "      <td>33.500000</td>\n",
       "      <td>7.665345e+05</td>\n",
       "      <td>3035.500000</td>\n",
       "      <td>4.000000</td>\n",
       "      <td>3.000000</td>\n",
       "      <td>1990.000000</td>\n",
       "      <td>80111.0</td>\n",
       "      <td>3.961667e+01</td>\n",
       "      <td>-1.048747e+02</td>\n",
       "    </tr>\n",
       "    <tr>\n",
       "      <th>75%</th>\n",
       "      <td>49.750000</td>\n",
       "      <td>9.907000e+05</td>\n",
       "      <td>3933.500000</td>\n",
       "      <td>5.000000</td>\n",
       "      <td>4.000000</td>\n",
       "      <td>2018.000000</td>\n",
       "      <td>80111.0</td>\n",
       "      <td>3.961667e+01</td>\n",
       "      <td>-1.048747e+02</td>\n",
       "    </tr>\n",
       "    <tr>\n",
       "      <th>max</th>\n",
       "      <td>66.000000</td>\n",
       "      <td>1.910991e+06</td>\n",
       "      <td>35719.200000</td>\n",
       "      <td>6.000000</td>\n",
       "      <td>7.000000</td>\n",
       "      <td>2019.000000</td>\n",
       "      <td>80111.0</td>\n",
       "      <td>3.961667e+01</td>\n",
       "      <td>-1.048747e+02</td>\n",
       "    </tr>\n",
       "  </tbody>\n",
       "</table>\n",
       "</div>"
      ],
      "text/plain": [
       "              id         price   sqft_living   bedrooms  bathrooms  \\\n",
       "count  66.000000  6.600000e+01     66.000000  66.000000  66.000000   \n",
       "mean   33.500000  8.049797e+05   3623.451515   3.636364   3.248485   \n",
       "std    19.196354  3.915756e+05   4239.300843   1.320097   1.114829   \n",
       "min     1.000000  1.825000e+05    658.000000   1.000000   1.000000   \n",
       "25%    17.250000  5.842618e+05   2403.900000   2.250000   3.000000   \n",
       "50%    33.500000  7.665345e+05   3035.500000   4.000000   3.000000   \n",
       "75%    49.750000  9.907000e+05   3933.500000   5.000000   4.000000   \n",
       "max    66.000000  1.910991e+06  35719.200000   6.000000   7.000000   \n",
       "\n",
       "        year_built  zipcode      Latitude     Longitude  \n",
       "count    66.000000     66.0  6.600000e+01  6.600000e+01  \n",
       "mean   1994.090909  80111.0  3.961667e+01 -1.048747e+02  \n",
       "std      18.709707      0.0  2.863950e-14  1.288778e-13  \n",
       "min    1960.000000  80111.0  3.961667e+01 -1.048747e+02  \n",
       "25%    1979.250000  80111.0  3.961667e+01 -1.048747e+02  \n",
       "50%    1990.000000  80111.0  3.961667e+01 -1.048747e+02  \n",
       "75%    2018.000000  80111.0  3.961667e+01 -1.048747e+02  \n",
       "max    2019.000000  80111.0  3.961667e+01 -1.048747e+02  "
      ]
     },
     "execution_count": 7,
     "metadata": {},
     "output_type": "execute_result"
    }
   ],
   "source": [
    "zill.describe()"
   ]
  },
  {
   "cell_type": "code",
   "execution_count": 8,
   "metadata": {},
   "outputs": [
    {
     "data": {
      "text/plain": [
       "1"
      ]
     },
     "execution_count": 8,
     "metadata": {},
     "output_type": "execute_result"
    }
   ],
   "source": [
    "zill['zipcode'].nunique()"
   ]
  },
  {
   "cell_type": "code",
   "execution_count": 9,
   "metadata": {},
   "outputs": [
    {
     "data": {
      "text/plain": [
       "4"
      ]
     },
     "execution_count": 9,
     "metadata": {},
     "output_type": "execute_result"
    }
   ],
   "source": [
    "zill['address'].nunique()"
   ]
  },
  {
   "cell_type": "code",
   "execution_count": 10,
   "metadata": {},
   "outputs": [
    {
     "data": {
      "text/plain": [
       "1960"
      ]
     },
     "execution_count": 10,
     "metadata": {},
     "output_type": "execute_result"
    }
   ],
   "source": [
    "zill['year_built'].min()"
   ]
  },
  {
   "cell_type": "code",
   "execution_count": 11,
   "metadata": {},
   "outputs": [
    {
     "data": {
      "text/plain": [
       "2019"
      ]
     },
     "execution_count": 11,
     "metadata": {},
     "output_type": "execute_result"
    }
   ],
   "source": [
    "zill['year_built'].max()"
   ]
  },
  {
   "cell_type": "code",
   "execution_count": 12,
   "metadata": {},
   "outputs": [
    {
     "data": {
      "text/html": [
       "<div>\n",
       "<style scoped>\n",
       "    .dataframe tbody tr th:only-of-type {\n",
       "        vertical-align: middle;\n",
       "    }\n",
       "\n",
       "    .dataframe tbody tr th {\n",
       "        vertical-align: top;\n",
       "    }\n",
       "\n",
       "    .dataframe thead th {\n",
       "        text-align: right;\n",
       "    }\n",
       "</style>\n",
       "<table border=\"1\" class=\"dataframe\">\n",
       "  <thead>\n",
       "    <tr style=\"text-align: right;\">\n",
       "      <th></th>\n",
       "      <th>price</th>\n",
       "      <th>sqft_living</th>\n",
       "      <th>bedrooms</th>\n",
       "      <th>bathrooms</th>\n",
       "      <th>year_built</th>\n",
       "      <th>zipcode</th>\n",
       "      <th>address</th>\n",
       "      <th>Latitude</th>\n",
       "      <th>Longitude</th>\n",
       "    </tr>\n",
       "  </thead>\n",
       "  <tbody>\n",
       "    <tr>\n",
       "      <th>0</th>\n",
       "      <td>1249000.0</td>\n",
       "      <td>6209.0</td>\n",
       "      <td>5</td>\n",
       "      <td>5.0</td>\n",
       "      <td>1986</td>\n",
       "      <td>80111</td>\n",
       "      <td>Centennial, CO 80111</td>\n",
       "      <td>39.616672</td>\n",
       "      <td>-104.874651</td>\n",
       "    </tr>\n",
       "    <tr>\n",
       "      <th>1</th>\n",
       "      <td>220000.0</td>\n",
       "      <td>1422.0</td>\n",
       "      <td>5</td>\n",
       "      <td>4.0</td>\n",
       "      <td>1986</td>\n",
       "      <td>80111</td>\n",
       "      <td>Centennial, CO 80111</td>\n",
       "      <td>39.616672</td>\n",
       "      <td>-104.874651</td>\n",
       "    </tr>\n",
       "    <tr>\n",
       "      <th>2</th>\n",
       "      <td>1250000.0</td>\n",
       "      <td>5614.0</td>\n",
       "      <td>2</td>\n",
       "      <td>3.0</td>\n",
       "      <td>1981</td>\n",
       "      <td>80111</td>\n",
       "      <td>Greenwood Village, CO 80111</td>\n",
       "      <td>39.616672</td>\n",
       "      <td>-104.874651</td>\n",
       "    </tr>\n",
       "    <tr>\n",
       "      <th>3</th>\n",
       "      <td>599900.0</td>\n",
       "      <td>2785.0</td>\n",
       "      <td>4</td>\n",
       "      <td>3.0</td>\n",
       "      <td>1982</td>\n",
       "      <td>80111</td>\n",
       "      <td>Englewood, CO 80111</td>\n",
       "      <td>39.616672</td>\n",
       "      <td>-104.874651</td>\n",
       "    </tr>\n",
       "    <tr>\n",
       "      <th>4</th>\n",
       "      <td>986950.0</td>\n",
       "      <td>3449.0</td>\n",
       "      <td>6</td>\n",
       "      <td>4.0</td>\n",
       "      <td>2019</td>\n",
       "      <td>80111</td>\n",
       "      <td>Centennial, CO 80111</td>\n",
       "      <td>39.616672</td>\n",
       "      <td>-104.874651</td>\n",
       "    </tr>\n",
       "  </tbody>\n",
       "</table>\n",
       "</div>"
      ],
      "text/plain": [
       "       price  sqft_living  bedrooms  bathrooms  year_built  zipcode  \\\n",
       "0  1249000.0       6209.0         5        5.0        1986    80111   \n",
       "1   220000.0       1422.0         5        4.0        1986    80111   \n",
       "2  1250000.0       5614.0         2        3.0        1981    80111   \n",
       "3   599900.0       2785.0         4        3.0        1982    80111   \n",
       "4   986950.0       3449.0         6        4.0        2019    80111   \n",
       "\n",
       "                       address   Latitude   Longitude  \n",
       "0         Centennial, CO 80111  39.616672 -104.874651  \n",
       "1         Centennial, CO 80111  39.616672 -104.874651  \n",
       "2  Greenwood Village, CO 80111  39.616672 -104.874651  \n",
       "3          Englewood, CO 80111  39.616672 -104.874651  \n",
       "4         Centennial, CO 80111  39.616672 -104.874651  "
      ]
     },
     "execution_count": 12,
     "metadata": {},
     "output_type": "execute_result"
    }
   ],
   "source": [
    "zill.drop('id', axis =1, inplace= True)\n",
    "zill.head()"
   ]
  },
  {
   "cell_type": "code",
   "execution_count": 13,
   "metadata": {},
   "outputs": [
    {
     "data": {
      "text/html": [
       "<div>\n",
       "<style scoped>\n",
       "    .dataframe tbody tr th:only-of-type {\n",
       "        vertical-align: middle;\n",
       "    }\n",
       "\n",
       "    .dataframe tbody tr th {\n",
       "        vertical-align: top;\n",
       "    }\n",
       "\n",
       "    .dataframe thead th {\n",
       "        text-align: right;\n",
       "    }\n",
       "</style>\n",
       "<table border=\"1\" class=\"dataframe\">\n",
       "  <thead>\n",
       "    <tr style=\"text-align: right;\">\n",
       "      <th></th>\n",
       "      <th>price</th>\n",
       "      <th>sqft_living</th>\n",
       "      <th>bedrooms</th>\n",
       "      <th>bathrooms</th>\n",
       "      <th>year_built</th>\n",
       "      <th>zipcode</th>\n",
       "      <th>address</th>\n",
       "      <th>Longitude</th>\n",
       "    </tr>\n",
       "  </thead>\n",
       "  <tbody>\n",
       "    <tr>\n",
       "      <th>0</th>\n",
       "      <td>1249000.0</td>\n",
       "      <td>6209.0</td>\n",
       "      <td>5</td>\n",
       "      <td>5.0</td>\n",
       "      <td>1986</td>\n",
       "      <td>80111</td>\n",
       "      <td>Centennial, CO 80111</td>\n",
       "      <td>-104.874651</td>\n",
       "    </tr>\n",
       "    <tr>\n",
       "      <th>1</th>\n",
       "      <td>220000.0</td>\n",
       "      <td>1422.0</td>\n",
       "      <td>5</td>\n",
       "      <td>4.0</td>\n",
       "      <td>1986</td>\n",
       "      <td>80111</td>\n",
       "      <td>Centennial, CO 80111</td>\n",
       "      <td>-104.874651</td>\n",
       "    </tr>\n",
       "    <tr>\n",
       "      <th>2</th>\n",
       "      <td>1250000.0</td>\n",
       "      <td>5614.0</td>\n",
       "      <td>2</td>\n",
       "      <td>3.0</td>\n",
       "      <td>1981</td>\n",
       "      <td>80111</td>\n",
       "      <td>Greenwood Village, CO 80111</td>\n",
       "      <td>-104.874651</td>\n",
       "    </tr>\n",
       "    <tr>\n",
       "      <th>3</th>\n",
       "      <td>599900.0</td>\n",
       "      <td>2785.0</td>\n",
       "      <td>4</td>\n",
       "      <td>3.0</td>\n",
       "      <td>1982</td>\n",
       "      <td>80111</td>\n",
       "      <td>Englewood, CO 80111</td>\n",
       "      <td>-104.874651</td>\n",
       "    </tr>\n",
       "    <tr>\n",
       "      <th>4</th>\n",
       "      <td>986950.0</td>\n",
       "      <td>3449.0</td>\n",
       "      <td>6</td>\n",
       "      <td>4.0</td>\n",
       "      <td>2019</td>\n",
       "      <td>80111</td>\n",
       "      <td>Centennial, CO 80111</td>\n",
       "      <td>-104.874651</td>\n",
       "    </tr>\n",
       "  </tbody>\n",
       "</table>\n",
       "</div>"
      ],
      "text/plain": [
       "       price  sqft_living  bedrooms  bathrooms  year_built  zipcode  \\\n",
       "0  1249000.0       6209.0         5        5.0        1986    80111   \n",
       "1   220000.0       1422.0         5        4.0        1986    80111   \n",
       "2  1250000.0       5614.0         2        3.0        1981    80111   \n",
       "3   599900.0       2785.0         4        3.0        1982    80111   \n",
       "4   986950.0       3449.0         6        4.0        2019    80111   \n",
       "\n",
       "                       address   Longitude  \n",
       "0         Centennial, CO 80111 -104.874651  \n",
       "1         Centennial, CO 80111 -104.874651  \n",
       "2  Greenwood Village, CO 80111 -104.874651  \n",
       "3          Englewood, CO 80111 -104.874651  \n",
       "4         Centennial, CO 80111 -104.874651  "
      ]
     },
     "execution_count": 13,
     "metadata": {},
     "output_type": "execute_result"
    }
   ],
   "source": [
    "zill.drop('Latitude', axis =1, inplace= True)\n",
    "zill.head()"
   ]
  },
  {
   "cell_type": "code",
   "execution_count": 14,
   "metadata": {},
   "outputs": [
    {
     "data": {
      "text/html": [
       "<div>\n",
       "<style scoped>\n",
       "    .dataframe tbody tr th:only-of-type {\n",
       "        vertical-align: middle;\n",
       "    }\n",
       "\n",
       "    .dataframe tbody tr th {\n",
       "        vertical-align: top;\n",
       "    }\n",
       "\n",
       "    .dataframe thead th {\n",
       "        text-align: right;\n",
       "    }\n",
       "</style>\n",
       "<table border=\"1\" class=\"dataframe\">\n",
       "  <thead>\n",
       "    <tr style=\"text-align: right;\">\n",
       "      <th></th>\n",
       "      <th>price</th>\n",
       "      <th>sqft_living</th>\n",
       "      <th>bedrooms</th>\n",
       "      <th>bathrooms</th>\n",
       "      <th>year_built</th>\n",
       "      <th>zipcode</th>\n",
       "      <th>address</th>\n",
       "    </tr>\n",
       "  </thead>\n",
       "  <tbody>\n",
       "    <tr>\n",
       "      <th>0</th>\n",
       "      <td>1249000.0</td>\n",
       "      <td>6209.0</td>\n",
       "      <td>5</td>\n",
       "      <td>5.0</td>\n",
       "      <td>1986</td>\n",
       "      <td>80111</td>\n",
       "      <td>Centennial, CO 80111</td>\n",
       "    </tr>\n",
       "    <tr>\n",
       "      <th>1</th>\n",
       "      <td>220000.0</td>\n",
       "      <td>1422.0</td>\n",
       "      <td>5</td>\n",
       "      <td>4.0</td>\n",
       "      <td>1986</td>\n",
       "      <td>80111</td>\n",
       "      <td>Centennial, CO 80111</td>\n",
       "    </tr>\n",
       "    <tr>\n",
       "      <th>2</th>\n",
       "      <td>1250000.0</td>\n",
       "      <td>5614.0</td>\n",
       "      <td>2</td>\n",
       "      <td>3.0</td>\n",
       "      <td>1981</td>\n",
       "      <td>80111</td>\n",
       "      <td>Greenwood Village, CO 80111</td>\n",
       "    </tr>\n",
       "    <tr>\n",
       "      <th>3</th>\n",
       "      <td>599900.0</td>\n",
       "      <td>2785.0</td>\n",
       "      <td>4</td>\n",
       "      <td>3.0</td>\n",
       "      <td>1982</td>\n",
       "      <td>80111</td>\n",
       "      <td>Englewood, CO 80111</td>\n",
       "    </tr>\n",
       "    <tr>\n",
       "      <th>4</th>\n",
       "      <td>986950.0</td>\n",
       "      <td>3449.0</td>\n",
       "      <td>6</td>\n",
       "      <td>4.0</td>\n",
       "      <td>2019</td>\n",
       "      <td>80111</td>\n",
       "      <td>Centennial, CO 80111</td>\n",
       "    </tr>\n",
       "  </tbody>\n",
       "</table>\n",
       "</div>"
      ],
      "text/plain": [
       "       price  sqft_living  bedrooms  bathrooms  year_built  zipcode  \\\n",
       "0  1249000.0       6209.0         5        5.0        1986    80111   \n",
       "1   220000.0       1422.0         5        4.0        1986    80111   \n",
       "2  1250000.0       5614.0         2        3.0        1981    80111   \n",
       "3   599900.0       2785.0         4        3.0        1982    80111   \n",
       "4   986950.0       3449.0         6        4.0        2019    80111   \n",
       "\n",
       "                       address  \n",
       "0         Centennial, CO 80111  \n",
       "1         Centennial, CO 80111  \n",
       "2  Greenwood Village, CO 80111  \n",
       "3          Englewood, CO 80111  \n",
       "4         Centennial, CO 80111  "
      ]
     },
     "execution_count": 14,
     "metadata": {},
     "output_type": "execute_result"
    }
   ],
   "source": [
    "zill.drop('Longitude', axis =1, inplace= True)\n",
    "zill.head()"
   ]
  },
  {
   "cell_type": "code",
   "execution_count": 15,
   "metadata": {},
   "outputs": [
    {
     "data": {
      "text/html": [
       "<div>\n",
       "<style scoped>\n",
       "    .dataframe tbody tr th:only-of-type {\n",
       "        vertical-align: middle;\n",
       "    }\n",
       "\n",
       "    .dataframe tbody tr th {\n",
       "        vertical-align: top;\n",
       "    }\n",
       "\n",
       "    .dataframe thead th {\n",
       "        text-align: right;\n",
       "    }\n",
       "</style>\n",
       "<table border=\"1\" class=\"dataframe\">\n",
       "  <thead>\n",
       "    <tr style=\"text-align: right;\">\n",
       "      <th></th>\n",
       "      <th>price</th>\n",
       "      <th>sqft_living</th>\n",
       "      <th>bedrooms</th>\n",
       "      <th>bathrooms</th>\n",
       "      <th>year_built</th>\n",
       "      <th>address</th>\n",
       "    </tr>\n",
       "  </thead>\n",
       "  <tbody>\n",
       "    <tr>\n",
       "      <th>0</th>\n",
       "      <td>1249000.0</td>\n",
       "      <td>6209.0</td>\n",
       "      <td>5</td>\n",
       "      <td>5.0</td>\n",
       "      <td>1986</td>\n",
       "      <td>Centennial, CO 80111</td>\n",
       "    </tr>\n",
       "    <tr>\n",
       "      <th>1</th>\n",
       "      <td>220000.0</td>\n",
       "      <td>1422.0</td>\n",
       "      <td>5</td>\n",
       "      <td>4.0</td>\n",
       "      <td>1986</td>\n",
       "      <td>Centennial, CO 80111</td>\n",
       "    </tr>\n",
       "    <tr>\n",
       "      <th>2</th>\n",
       "      <td>1250000.0</td>\n",
       "      <td>5614.0</td>\n",
       "      <td>2</td>\n",
       "      <td>3.0</td>\n",
       "      <td>1981</td>\n",
       "      <td>Greenwood Village, CO 80111</td>\n",
       "    </tr>\n",
       "    <tr>\n",
       "      <th>3</th>\n",
       "      <td>599900.0</td>\n",
       "      <td>2785.0</td>\n",
       "      <td>4</td>\n",
       "      <td>3.0</td>\n",
       "      <td>1982</td>\n",
       "      <td>Englewood, CO 80111</td>\n",
       "    </tr>\n",
       "    <tr>\n",
       "      <th>4</th>\n",
       "      <td>986950.0</td>\n",
       "      <td>3449.0</td>\n",
       "      <td>6</td>\n",
       "      <td>4.0</td>\n",
       "      <td>2019</td>\n",
       "      <td>Centennial, CO 80111</td>\n",
       "    </tr>\n",
       "  </tbody>\n",
       "</table>\n",
       "</div>"
      ],
      "text/plain": [
       "       price  sqft_living  bedrooms  bathrooms  year_built  \\\n",
       "0  1249000.0       6209.0         5        5.0        1986   \n",
       "1   220000.0       1422.0         5        4.0        1986   \n",
       "2  1250000.0       5614.0         2        3.0        1981   \n",
       "3   599900.0       2785.0         4        3.0        1982   \n",
       "4   986950.0       3449.0         6        4.0        2019   \n",
       "\n",
       "                       address  \n",
       "0         Centennial, CO 80111  \n",
       "1         Centennial, CO 80111  \n",
       "2  Greenwood Village, CO 80111  \n",
       "3          Englewood, CO 80111  \n",
       "4         Centennial, CO 80111  "
      ]
     },
     "execution_count": 15,
     "metadata": {},
     "output_type": "execute_result"
    }
   ],
   "source": [
    "zill.drop('zipcode', axis = 1, inplace = True)\n",
    "zill.head()"
   ]
  },
  {
   "cell_type": "code",
   "execution_count": 16,
   "metadata": {
    "scrolled": true
   },
   "outputs": [
    {
     "data": {
      "text/plain": [
       "price          float64\n",
       "sqft_living    float64\n",
       "bedrooms         int64\n",
       "bathrooms      float64\n",
       "year_built       int64\n",
       "address         object\n",
       "dtype: object"
      ]
     },
     "execution_count": 16,
     "metadata": {},
     "output_type": "execute_result"
    }
   ],
   "source": [
    "zill.dtypes"
   ]
  },
  {
   "cell_type": "code",
   "execution_count": 17,
   "metadata": {},
   "outputs": [
    {
     "data": {
      "text/plain": [
       "4"
      ]
     },
     "execution_count": 17,
     "metadata": {},
     "output_type": "execute_result"
    }
   ],
   "source": [
    "zill['address'].nunique()"
   ]
  },
  {
   "cell_type": "code",
   "execution_count": 18,
   "metadata": {},
   "outputs": [
    {
     "data": {
      "image/png": "[encoded data removed]",
      "text/plain": [
       "<Figure size 720x360 with 1 Axes>"
      ]
     },
     "metadata": {
      "needs_background": "light"
     },
     "output_type": "display_data"
    }
   ],
   "source": [
    "zill['price'].plot(kind = 'hist', figsize = (10,5), bins = 100, color = 'c');\n",
    "zill['price'].xlabel = 'price'\n"
   ]
  },
  {
   "cell_type": "code",
   "execution_count": 19,
   "metadata": {},
   "outputs": [
    {
     "data": {
      "text/plain": [
       "<AxesSubplot:>"
      ]
     },
     "execution_count": 19,
     "metadata": {},
     "output_type": "execute_result"
    },
    {
     "data": {
      "image/png": "[encoded data removed]",
      "text/plain": [
       "<Figure size 360x360 with 1 Axes>"
      ]
     },
     "metadata": {
      "needs_background": "light"
     },
     "output_type": "display_data"
    }
   ],
   "source": [
    "zill['bedrooms'].hist(figsize = (5,5), color = 'y')"
   ]
  },
  {
   "cell_type": "code",
   "execution_count": 20,
   "metadata": {},
   "outputs": [
    {
     "data": {
      "text/plain": [
       "<AxesSubplot:>"
      ]
     },
     "execution_count": 20,
     "metadata": {},
     "output_type": "execute_result"
    },
    {
     "data": {
      "image/png": "[encoded data removed]",
      "text/plain": [
       "<Figure size 360x360 with 1 Axes>"
      ]
     },
     "metadata": {
      "needs_background": "light"
     },
     "output_type": "display_data"
    }
   ],
   "source": [
    "zill['bathrooms'].hist(figsize = (5,5),bins =30)"
   ]
  },
  {
   "cell_type": "code",
   "execution_count": 21,
   "metadata": {},
   "outputs": [
    {
     "data": {
      "text/html": [
       "<div>\n",
       "<style scoped>\n",
       "    .dataframe tbody tr th:only-of-type {\n",
       "        vertical-align: middle;\n",
       "    }\n",
       "\n",
       "    .dataframe tbody tr th {\n",
       "        vertical-align: top;\n",
       "    }\n",
       "\n",
       "    .dataframe thead th {\n",
       "        text-align: right;\n",
       "    }\n",
       "</style>\n",
       "<table border=\"1\" class=\"dataframe\">\n",
       "  <thead>\n",
       "    <tr style=\"text-align: right;\">\n",
       "      <th></th>\n",
       "      <th>price</th>\n",
       "      <th>sqft_living</th>\n",
       "      <th>bedrooms</th>\n",
       "      <th>bathrooms</th>\n",
       "      <th>year_built</th>\n",
       "      <th>address</th>\n",
       "    </tr>\n",
       "  </thead>\n",
       "  <tbody>\n",
       "    <tr>\n",
       "      <th>0</th>\n",
       "      <td>1249000.0</td>\n",
       "      <td>6209.0</td>\n",
       "      <td>5</td>\n",
       "      <td>5.0</td>\n",
       "      <td>1986</td>\n",
       "      <td>Centennial, CO 80111</td>\n",
       "    </tr>\n",
       "    <tr>\n",
       "      <th>1</th>\n",
       "      <td>220000.0</td>\n",
       "      <td>1422.0</td>\n",
       "      <td>5</td>\n",
       "      <td>4.0</td>\n",
       "      <td>1986</td>\n",
       "      <td>Centennial, CO 80111</td>\n",
       "    </tr>\n",
       "    <tr>\n",
       "      <th>2</th>\n",
       "      <td>1250000.0</td>\n",
       "      <td>5614.0</td>\n",
       "      <td>2</td>\n",
       "      <td>3.0</td>\n",
       "      <td>1981</td>\n",
       "      <td>Greenwood Village, CO 80111</td>\n",
       "    </tr>\n",
       "    <tr>\n",
       "      <th>3</th>\n",
       "      <td>599900.0</td>\n",
       "      <td>2785.0</td>\n",
       "      <td>4</td>\n",
       "      <td>3.0</td>\n",
       "      <td>1982</td>\n",
       "      <td>Englewood, CO 80111</td>\n",
       "    </tr>\n",
       "    <tr>\n",
       "      <th>4</th>\n",
       "      <td>986950.0</td>\n",
       "      <td>3449.0</td>\n",
       "      <td>6</td>\n",
       "      <td>4.0</td>\n",
       "      <td>2019</td>\n",
       "      <td>Centennial, CO 80111</td>\n",
       "    </tr>\n",
       "  </tbody>\n",
       "</table>\n",
       "</div>"
      ],
      "text/plain": [
       "       price  sqft_living  bedrooms  bathrooms  year_built  \\\n",
       "0  1249000.0       6209.0         5        5.0        1986   \n",
       "1   220000.0       1422.0         5        4.0        1986   \n",
       "2  1250000.0       5614.0         2        3.0        1981   \n",
       "3   599900.0       2785.0         4        3.0        1982   \n",
       "4   986950.0       3449.0         6        4.0        2019   \n",
       "\n",
       "                       address  \n",
       "0         Centennial, CO 80111  \n",
       "1         Centennial, CO 80111  \n",
       "2  Greenwood Village, CO 80111  \n",
       "3          Englewood, CO 80111  \n",
       "4         Centennial, CO 80111  "
      ]
     },
     "execution_count": 21,
     "metadata": {},
     "output_type": "execute_result"
    }
   ],
   "source": [
    "zill.head()"
   ]
  },
  {
   "cell_type": "code",
   "execution_count": 22,
   "metadata": {},
   "outputs": [
    {
     "data": {
      "text/plain": [
       "price          float64\n",
       "sqft_living    float64\n",
       "bedrooms         int64\n",
       "bathrooms      float64\n",
       "year_built       int64\n",
       "address         object\n",
       "dtype: object"
      ]
     },
     "execution_count": 22,
     "metadata": {},
     "output_type": "execute_result"
    }
   ],
   "source": [
    "zill.dtypes"
   ]
  },
  {
   "cell_type": "code",
   "execution_count": 23,
   "metadata": {
    "scrolled": true
   },
   "outputs": [
    {
     "data": {
      "text/html": [
       "<div>\n",
       "<style scoped>\n",
       "    .dataframe tbody tr th:only-of-type {\n",
       "        vertical-align: middle;\n",
       "    }\n",
       "\n",
       "    .dataframe tbody tr th {\n",
       "        vertical-align: top;\n",
       "    }\n",
       "\n",
       "    .dataframe thead th {\n",
       "        text-align: right;\n",
       "    }\n",
       "</style>\n",
       "<table border=\"1\" class=\"dataframe\">\n",
       "  <thead>\n",
       "    <tr style=\"text-align: right;\">\n",
       "      <th></th>\n",
       "      <th>price</th>\n",
       "      <th>sqft_living</th>\n",
       "      <th>bedrooms</th>\n",
       "      <th>bathrooms</th>\n",
       "      <th>year_built</th>\n",
       "      <th>address</th>\n",
       "    </tr>\n",
       "  </thead>\n",
       "  <tbody>\n",
       "    <tr>\n",
       "      <th>0</th>\n",
       "      <td>1249000.0</td>\n",
       "      <td>6209.0</td>\n",
       "      <td>5</td>\n",
       "      <td>5.0</td>\n",
       "      <td>1986</td>\n",
       "      <td>Centennial, CO 80111</td>\n",
       "    </tr>\n",
       "    <tr>\n",
       "      <th>1</th>\n",
       "      <td>220000.0</td>\n",
       "      <td>1422.0</td>\n",
       "      <td>5</td>\n",
       "      <td>4.0</td>\n",
       "      <td>1986</td>\n",
       "      <td>Centennial, CO 80111</td>\n",
       "    </tr>\n",
       "    <tr>\n",
       "      <th>2</th>\n",
       "      <td>1250000.0</td>\n",
       "      <td>5614.0</td>\n",
       "      <td>2</td>\n",
       "      <td>3.0</td>\n",
       "      <td>1981</td>\n",
       "      <td>Greenwood Village, CO 80111</td>\n",
       "    </tr>\n",
       "    <tr>\n",
       "      <th>3</th>\n",
       "      <td>599900.0</td>\n",
       "      <td>2785.0</td>\n",
       "      <td>4</td>\n",
       "      <td>3.0</td>\n",
       "      <td>1982</td>\n",
       "      <td>Englewood, CO 80111</td>\n",
       "    </tr>\n",
       "    <tr>\n",
       "      <th>4</th>\n",
       "      <td>986950.0</td>\n",
       "      <td>3449.0</td>\n",
       "      <td>6</td>\n",
       "      <td>4.0</td>\n",
       "      <td>2019</td>\n",
       "      <td>Centennial, CO 80111</td>\n",
       "    </tr>\n",
       "  </tbody>\n",
       "</table>\n",
       "</div>"
      ],
      "text/plain": [
       "       price  sqft_living  bedrooms  bathrooms  year_built  \\\n",
       "0  1249000.0       6209.0         5        5.0        1986   \n",
       "1   220000.0       1422.0         5        4.0        1986   \n",
       "2  1250000.0       5614.0         2        3.0        1981   \n",
       "3   599900.0       2785.0         4        3.0        1982   \n",
       "4   986950.0       3449.0         6        4.0        2019   \n",
       "\n",
       "                       address  \n",
       "0         Centennial, CO 80111  \n",
       "1         Centennial, CO 80111  \n",
       "2  Greenwood Village, CO 80111  \n",
       "3          Englewood, CO 80111  \n",
       "4         Centennial, CO 80111  "
      ]
     },
     "execution_count": 23,
     "metadata": {},
     "output_type": "execute_result"
    }
   ],
   "source": [
    "zill.head()"
   ]
  },
  {
   "cell_type": "code",
   "execution_count": 24,
   "metadata": {},
   "outputs": [
    {
     "data": {
      "text/plain": [
       "658.0"
      ]
     },
     "execution_count": 24,
     "metadata": {},
     "output_type": "execute_result"
    }
   ],
   "source": [
    "zill['sqft_living'].min()"
   ]
  },
  {
   "cell_type": "code",
   "execution_count": 25,
   "metadata": {},
   "outputs": [
    {
     "data": {
      "text/plain": [
       "35719.2"
      ]
     },
     "execution_count": 25,
     "metadata": {},
     "output_type": "execute_result"
    }
   ],
   "source": [
    "zill['sqft_living'].max()"
   ]
  },
  {
   "cell_type": "code",
   "execution_count": 26,
   "metadata": {},
   "outputs": [
    {
     "data": {
      "image/png": "[encoded data removed]",
      "text/plain": [
       "<Figure size 1080x720 with 6 Axes>"
      ]
     },
     "metadata": {
      "needs_background": "light"
     },
     "output_type": "display_data"
    }
   ],
   "source": [
    "fig, ax = plt.subplots(nrows =3, ncols =2, figsize =(15,10))\n",
    "ax[0,0].scatter(zill['sqft_living'], zill['price'],  color= 'r')\n",
    "ax[0,1].scatter(zill['bedrooms'], zill['price'], color = 'g')\n",
    "ax[1,0].scatter(zill['year_built'], zill['price'], color = 'm')\n",
    "ax[1,1].scatter(zill['bedrooms'], zill['year_built'])\n",
    "ax[2,0].hist(zill['price'],bins = 100, color = 'c');\n",
    "\n",
    "\n",
    "ax[0,0].set(xlabel = 'Sqft Living Area', ylabel = 'Price');\n",
    "ax[0,1].set(xlabel = 'Bedroom', ylabel = 'Price');\n",
    "ax[1,0].set(xlabel = 'Year Built', ylabel = 'Price');\n",
    "ax[1,1].set(xlabel = 'Bedroom', ylabel = 'year bulit');\n",
    "#ax[2,0].hist(xlabel = 'Price', ylabel = 'Frequency')"
   ]
  },
  {
   "cell_type": "code",
   "execution_count": 27,
   "metadata": {},
   "outputs": [
    {
     "data": {
      "text/html": [
       "<div>\n",
       "<style scoped>\n",
       "    .dataframe tbody tr th:only-of-type {\n",
       "        vertical-align: middle;\n",
       "    }\n",
       "\n",
       "    .dataframe tbody tr th {\n",
       "        vertical-align: top;\n",
       "    }\n",
       "\n",
       "    .dataframe thead th {\n",
       "        text-align: right;\n",
       "    }\n",
       "</style>\n",
       "<table border=\"1\" class=\"dataframe\">\n",
       "  <thead>\n",
       "    <tr style=\"text-align: right;\">\n",
       "      <th></th>\n",
       "      <th>price</th>\n",
       "      <th>sqft_living</th>\n",
       "      <th>bedrooms</th>\n",
       "      <th>bathrooms</th>\n",
       "      <th>year_built</th>\n",
       "      <th>address</th>\n",
       "    </tr>\n",
       "  </thead>\n",
       "  <tbody>\n",
       "    <tr>\n",
       "      <th>0</th>\n",
       "      <td>1249000.0</td>\n",
       "      <td>6209.0</td>\n",
       "      <td>5</td>\n",
       "      <td>5.0</td>\n",
       "      <td>1986</td>\n",
       "      <td>Centennial, CO 80111</td>\n",
       "    </tr>\n",
       "    <tr>\n",
       "      <th>1</th>\n",
       "      <td>220000.0</td>\n",
       "      <td>1422.0</td>\n",
       "      <td>5</td>\n",
       "      <td>4.0</td>\n",
       "      <td>1986</td>\n",
       "      <td>Centennial, CO 80111</td>\n",
       "    </tr>\n",
       "    <tr>\n",
       "      <th>2</th>\n",
       "      <td>1250000.0</td>\n",
       "      <td>5614.0</td>\n",
       "      <td>2</td>\n",
       "      <td>3.0</td>\n",
       "      <td>1981</td>\n",
       "      <td>Greenwood Village, CO 80111</td>\n",
       "    </tr>\n",
       "    <tr>\n",
       "      <th>3</th>\n",
       "      <td>599900.0</td>\n",
       "      <td>2785.0</td>\n",
       "      <td>4</td>\n",
       "      <td>3.0</td>\n",
       "      <td>1982</td>\n",
       "      <td>Englewood, CO 80111</td>\n",
       "    </tr>\n",
       "    <tr>\n",
       "      <th>4</th>\n",
       "      <td>986950.0</td>\n",
       "      <td>3449.0</td>\n",
       "      <td>6</td>\n",
       "      <td>4.0</td>\n",
       "      <td>2019</td>\n",
       "      <td>Centennial, CO 80111</td>\n",
       "    </tr>\n",
       "  </tbody>\n",
       "</table>\n",
       "</div>"
      ],
      "text/plain": [
       "       price  sqft_living  bedrooms  bathrooms  year_built  \\\n",
       "0  1249000.0       6209.0         5        5.0        1986   \n",
       "1   220000.0       1422.0         5        4.0        1986   \n",
       "2  1250000.0       5614.0         2        3.0        1981   \n",
       "3   599900.0       2785.0         4        3.0        1982   \n",
       "4   986950.0       3449.0         6        4.0        2019   \n",
       "\n",
       "                       address  \n",
       "0         Centennial, CO 80111  \n",
       "1         Centennial, CO 80111  \n",
       "2  Greenwood Village, CO 80111  \n",
       "3          Englewood, CO 80111  \n",
       "4         Centennial, CO 80111  "
      ]
     },
     "execution_count": 27,
     "metadata": {},
     "output_type": "execute_result"
    }
   ],
   "source": [
    "zill.head()"
   ]
  },
  {
   "cell_type": "code",
   "execution_count": 28,
   "metadata": {},
   "outputs": [
    {
     "data": {
      "text/plain": [
       "count                              66\n",
       "unique                              4\n",
       "top       Greenwood Village, CO 80111\n",
       "freq                               24\n",
       "Name: address, dtype: object"
      ]
     },
     "execution_count": 28,
     "metadata": {},
     "output_type": "execute_result"
    }
   ],
   "source": [
    "zill['address'].describe()"
   ]
  },
  {
   "cell_type": "code",
   "execution_count": 29,
   "metadata": {},
   "outputs": [
    {
     "data": {
      "text/plain": [
       "price          0\n",
       "sqft_living    0\n",
       "bedrooms       0\n",
       "bathrooms      0\n",
       "year_built     0\n",
       "address        0\n",
       "dtype: int64"
      ]
     },
     "execution_count": 29,
     "metadata": {},
     "output_type": "execute_result"
    }
   ],
   "source": [
    "zill.isna().sum()"
   ]
  },
  {
   "cell_type": "code",
   "execution_count": null,
   "metadata": {},
   "outputs": [],
   "source": []
  }
 ],
 "metadata": {
  "kernelspec": {
   "display_name": "Python 3",
   "language": "python",
   "name": "python3"
  },
  "language_info": {
   "codemirror_mode": {
    "name": "ipython",
    "version": 3
   },
   "file_extension": ".py",
   "mimetype": "text/x-python",
   "name": "python",
   "nbconvert_exporter": "python",
   "pygments_lexer": "ipython3",
   "version": "3.8.5"
  }
 },
 "nbformat": 4,
 "nbformat_minor": 4
}
